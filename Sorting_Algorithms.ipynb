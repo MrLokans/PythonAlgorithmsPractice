{
 "cells": [
  {
   "cell_type": "code",
   "execution_count": 1,
   "metadata": {
    "collapsed": false
   },
   "outputs": [
    {
     "name": "stdout",
     "output_type": "stream",
     "text": [
      "[-300, -30, 0, 1, 2, 2, 5, 10, 100]\n"
     ]
    }
   ],
   "source": [
    "def bubble_sort(in_list):\n",
    "    for pass_num in range(len(in_list)-1, 0, -1):\n",
    "        for i in range(pass_num):\n",
    "            if in_list[i] > in_list[i + 1]:\n",
    "                in_list[i], in_list[i+1] = in_list[i+1], in_list[i]\n",
    "l = [1, 10, 0, 2, 2, 5, 100, -30, -300]\n",
    "bubble_sort(l)\n",
    "print(l)"
   ]
  },
  {
   "cell_type": "code",
   "execution_count": 2,
   "metadata": {
    "collapsed": true
   },
   "outputs": [],
   "source": [
    "def short_bubble_sort(in_list):\n",
    "    exchanges = True\n",
    "    pass_num = len(in_list) - 1\n",
    "    while pass_num > 0 and exchanges:\n",
    "        exchanges = False\n",
    "        for i in range(pass_num):\n",
    "            if in_list[i] > in_list[i+1]:\n",
    "                exchanges = True\n",
    "                in_list[i], in_list[i+1] = in_list[i+1], in_list[i]\n",
    "        pass_num -= 1"
   ]
  },
  {
   "cell_type": "code",
   "execution_count": null,
   "metadata": {
    "collapsed": true
   },
   "outputs": [],
   "source": []
  },
  {
   "cell_type": "code",
   "execution_count": 5,
   "metadata": {
    "collapsed": false
   },
   "outputs": [
    {
     "name": "stdout",
     "output_type": "stream",
     "text": [
      "[-300, -30, 0, 1, 2, 2, 5, 10, 100]\n"
     ]
    }
   ],
   "source": [
    "def selection_sort(in_list):\n",
    "    list_len = len(in_list)\n",
    "    for pos in range(list_len - 1, 0, -1):\n",
    "        pos_of_max = 0\n",
    "        for location in range(1, pos+1):\n",
    "            if in_list[location] > in_list[pos_of_max]:\n",
    "               pos_of_max = location\n",
    "        in_list[pos], in_list[pos_of_max] = in_list[pos_of_max], in_list[pos]\n",
    "l = [1, 10, 0, 2, 2, 5, 100, -30, -300]\n",
    "selection_sort(l)\n",
    "print(l)"
   ]
  },
  {
   "cell_type": "code",
   "execution_count": 7,
   "metadata": {
    "collapsed": false
   },
   "outputs": [
    {
     "name": "stdout",
     "output_type": "stream",
     "text": [
      "[-300, -100, -1, 0, 0, 1, 2, 20, 900]\n"
     ]
    }
   ],
   "source": [
    "def merge_sort(seq):\n",
    "    middle = len(seq) // 2\n",
    "    left, right = seq[:middle], seq[middle:]\n",
    "    if len(left) > 1:\n",
    "        left = merge_sort(left)\n",
    "    if len(right) > 1:\n",
    "        right = merge_sort(right)\n",
    "    rest = []\n",
    "    while left and right:\n",
    "        if left[-1] >= right[-1]:\n",
    "            rest.append(left.pop())\n",
    "        else:\n",
    "            rest.append(right.pop())\n",
    "    rest.reverse()\n",
    "    print(rest)\n",
    "#     print((left or right) + rest)\n",
    "    return (left or right) + rest\n",
    "\n",
    "print(merge_sort([1, 20, -100, 0, -300, -1, 900, 0, 2]))"
   ]
  }
 ],
 "metadata": {
  "kernelspec": {
   "display_name": "Python 3",
   "language": "python",
   "name": "python3"
  },
  "language_info": {
   "codemirror_mode": {
    "name": "ipython",
    "version": 3
   },
   "file_extension": ".py",
   "mimetype": "text/x-python",
   "name": "python",
   "nbconvert_exporter": "python",
   "pygments_lexer": "ipython3",
   "version": "3.4.3"
  }
 },
 "nbformat": 4,
 "nbformat_minor": 0
}
