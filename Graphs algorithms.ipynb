{
 "cells": [
  {
   "cell_type": "markdown",
   "metadata": {},
   "source": [
    "*** Graph terminology ***\n",
    "* A graph G = (V, E ) consists of a set of nodes, V, and edges between them, E. If the\n",
    "edges have a direction, we say the graph is directed.\n",
    "* Nodes with an edge between them are adjacent. The edge is then incident to both.\n",
    "The nodes that are adjacent to v are the neighbors of v.\n",
    "* A subgraph of G = (V, E ) consists of a subset of V and a subset of E. A path in G is a\n",
    "subgraph where the edges connect the nodes in a sequence, without revisiting any\n",
    "node. A cycle is like a path, except that the last edge links the last node to the first.\n",
    "* If we associate a weight with each edge in G, we say that G is a weighted graph. The\n",
    "length of a path or cycle is the sum of its edge weights, or, for unweighted graphs,\n",
    "simply the number of edges.\n",
    "* A forest is a cycle-free graph, and a connected graph is a tree. In other words, a\n",
    "forest consists of one or more trees."
   ]
  },
  {
   "cell_type": "markdown",
   "metadata": {},
   "source": [
    "** Using adjacency lists **"
   ]
  },
  {
   "cell_type": "code",
   "execution_count": 2,
   "metadata": {
    "collapsed": false
   },
   "outputs": [
    {
     "name": "stdout",
     "output_type": "stream",
     "text": [
      "True\n",
      "3\n"
     ]
    }
   ],
   "source": [
    "import numpy as np\n",
    "# set are used to make membership checking O(1)\n",
    "a, b, c, d, e, f, g, h = range(8)\n",
    "N = [\n",
    "    {b, c, d, e, f}, #a\n",
    "    {c, e}, #b\n",
    "    {d}, #c\n",
    "    {e}, #d\n",
    "    {f}, #e\n",
    "    {c, g, h}, #f\n",
    "    {f, h}, #g\n",
    "    {f, g} #h\n",
    "]\n",
    "\n",
    "# Neighborhood membership\n",
    "print(b in N[a])\n",
    "# Degree\n",
    "print(len(N[f]))"
   ]
  },
  {
   "cell_type": "code",
   "execution_count": 3,
   "metadata": {
    "collapsed": false
   },
   "outputs": [
    {
     "name": "stdout",
     "output_type": "stream",
     "text": [
      "Edge wieght for a-b is 2\n"
     ]
    }
   ],
   "source": [
    "N = [\n",
    "    {b:2, c:1, d:3, e:9, f:4},    # a\n",
    "    {c:4, e:3},    # b\n",
    "    {d:8},    # c\n",
    "    {e:7},    # d\n",
    "    {f:5},    # e\n",
    "    {c:2, g:2, h:2},    # f\n",
    "    {f:1, h:6},    # g\n",
    "    {f:9, g:8}    # h\n",
    "]\n",
    "# When using edge weights may be stored.\n",
    "print(\"Edge wieght for a-b is {}\".format(N[a][b]))\n"
   ]
  },
  {
   "cell_type": "markdown",
   "metadata": {},
   "source": [
    "** Using adjacency matrices **"
   ]
  },
  {
   "cell_type": "code",
   "execution_count": 4,
   "metadata": {
    "collapsed": false
   },
   "outputs": [
    {
     "name": "stdout",
     "output_type": "stream",
     "text": [
      "Membershib for (a, b):  True\n"
     ]
    }
   ],
   "source": [
    "a, b, c, d, e, f, g, h = range(8)\n",
    "M = [[0,1,1,1,1,1,0,0],\n",
    "    [0,0,1,0,1,0,0,0],\n",
    "    [0,0,0,1,0,0,0,0],\n",
    "    [0,0,0,0,1,0,0,0],\n",
    "    [0,0,0,0,0,1,0,0],\n",
    "    [0,0,1,0,0,0,1,1],\n",
    "    [0,0,0,0,0,1,0,1],\n",
    "    [0,0,0,0,0,1,1,0]]\n",
    "print(\"Membershib for (a, b): \", bool(M[a][b]))"
   ]
  },
  {
   "cell_type": "markdown",
   "metadata": {},
   "source": [
    "** We may modify our matrix to store edge weights**"
   ]
  },
  {
   "cell_type": "code",
   "execution_count": 5,
   "metadata": {
    "collapsed": false
   },
   "outputs": [
    {
     "name": "stdout",
     "output_type": "stream",
     "text": [
      "A and B are neghbors:  True\n",
      "C and E are neghbors:  False\n",
      "A degree is:  5\n"
     ]
    }
   ],
   "source": [
    "a, b, c, d, e, f, g, h = range(8)\n",
    "_ = float('inf')\n",
    "inf = float('inf')\n",
    "\n",
    "W = [[0,2,1,3,9,4,_,_],\n",
    "    [_,0,4,_,3,_,_,_],\n",
    "    [_,_,0,8,_,_,_,_],\n",
    "    [_,_,_,0,7,_,_,_],\n",
    "    [_,_,_,_,0,5,_,_],\n",
    "    [_,_,2,_,_,0,2,2],\n",
    "    [_,_,_,_,_,1,0,6],\n",
    "    [_,_,_,_,_,9,8,0]]\n",
    "print(\"A and B are neghbors: \", W[a][b] < inf)\n",
    "print(\"C and E are neghbors: \", W[c][e] < inf)\n",
    "# No loops allowed for now.\n",
    "print(\"A degree is: \", sum(1 for w in W[a] if w < inf) - 1)"
   ]
  },
  {
   "cell_type": "code",
   "execution_count": 6,
   "metadata": {
    "collapsed": false
   },
   "outputs": [
    {
     "data": {
      "text/plain": [
       "array([[ 0.,  0.,  0.,  0.,  0.,  0.,  0.,  0.,  0.,  0.],\n",
       "       [ 0.,  0.,  0.,  0.,  0.,  0.,  0.,  0.,  0.,  0.],\n",
       "       [ 0.,  0.,  0.,  0.,  0.,  0.,  0.,  0.,  0.,  0.],\n",
       "       [ 0.,  0.,  0.,  0.,  0.,  0.,  0.,  0.,  0.,  0.],\n",
       "       [ 0.,  0.,  0.,  0.,  0.,  0.,  0.,  0.,  0.,  0.],\n",
       "       [ 0.,  0.,  0.,  0.,  0.,  0.,  0.,  0.,  0.,  0.],\n",
       "       [ 0.,  0.,  0.,  0.,  0.,  0.,  0.,  0.,  0.,  0.],\n",
       "       [ 0.,  0.,  0.,  0.,  0.,  0.,  0.,  0.,  0.,  0.],\n",
       "       [ 0.,  0.,  0.,  0.,  0.,  0.,  0.,  0.,  0.,  0.],\n",
       "       [ 0.,  0.,  0.,  0.,  0.,  0.,  0.,  0.,  0.,  0.]])"
      ]
     },
     "execution_count": 6,
     "metadata": {},
     "output_type": "execute_result"
    }
   ],
   "source": [
    "# numpy arrays maybe used to eficiently store numbers\n",
    "np.zeros([10, 10])"
   ]
  }
 ],
 "metadata": {
  "kernelspec": {
   "display_name": "Python 3",
   "language": "python",
   "name": "python3"
  },
  "language_info": {
   "codemirror_mode": {
    "name": "ipython",
    "version": 3
   },
   "file_extension": ".py",
   "mimetype": "text/x-python",
   "name": "python",
   "nbconvert_exporter": "python",
   "pygments_lexer": "ipython3",
   "version": "3.4.3"
  }
 },
 "nbformat": 4,
 "nbformat_minor": 0
}
