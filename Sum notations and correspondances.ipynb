{
 "cells": [
  {
   "cell_type": "markdown",
   "metadata": {},
   "source": [
    "```python\n",
    "x * sum(S) == sum(x*y for y in S)\n",
    "```\n",
    "\n",
    "$$ x \\sum_{y\\in S}y = \\sum_{y\\in S} xy$$\n",
    "\n",
    "$\\sum_{i=m}^{n}f(i)$ is quivalent for python's \n",
    "```python \n",
    "sum(f(i) for i in range(m, n+1))\n",
    "```"
   ]
  }
 ],
 "metadata": {
  "kernelspec": {
   "display_name": "Python 3",
   "language": "python",
   "name": "python3"
  },
  "language_info": {
   "codemirror_mode": {
    "name": "ipython",
    "version": 3
   },
   "file_extension": ".py",
   "mimetype": "text/x-python",
   "name": "python",
   "nbconvert_exporter": "python",
   "pygments_lexer": "ipython3",
   "version": "3.4.3"
  }
 },
 "nbformat": 4,
 "nbformat_minor": 0
}
