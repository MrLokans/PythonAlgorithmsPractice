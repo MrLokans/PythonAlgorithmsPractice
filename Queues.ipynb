{
 "cells": [
  {
   "cell_type": "code",
   "execution_count": 2,
   "metadata": {
    "collapsed": true
   },
   "outputs": [],
   "source": [
    "class Queue(object):\n",
    "\n",
    "    def __init__(self):\n",
    "        self.items = []\n",
    "\n",
    "    def is_empty(self):\n",
    "        return self.items == []\n",
    "\n",
    "    def enqueue(self, item):\n",
    "        self.items.insert(0, item)\n",
    "\n",
    "    def dequeue(self):\n",
    "        return self.items.pop()\n",
    "\n",
    "    def size(self):\n",
    "        return len(self.items)\n"
   ]
  },
  {
   "cell_type": "code",
   "execution_count": 4,
   "metadata": {
    "collapsed": true
   },
   "outputs": [],
   "source": [
    "# ========== Examples ===================="
   ]
  },
  {
   "cell_type": "code",
   "execution_count": 5,
   "metadata": {
    "collapsed": false
   },
   "outputs": [
    {
     "name": "stdout",
     "output_type": "stream",
     "text": [
      "anders\n",
      "Average Wait 157.50 secs   0 tasks remaining.\n",
      "Average Wait  47.47 secs   0 tasks remaining.\n",
      "Average Wait  37.43 secs   2 tasks remaining.\n",
      "Average Wait  20.56 secs   0 tasks remaining.\n",
      "Average Wait  58.50 secs   3 tasks remaining.\n",
      "Average Wait  40.83 secs   1 tasks remaining.\n",
      "Average Wait 141.62 secs   4 tasks remaining.\n",
      "Average Wait 213.20 secs   4 tasks remaining.\n",
      "Average Wait  75.26 secs   0 tasks remaining.\n",
      "Average Wait 126.77 secs   2 tasks remaining.\n"
     ]
    }
   ],
   "source": [
    "import random\n",
    "\n",
    "\n",
    "def hot_potato(namelist, num):\n",
    "    simqueue = Queue()\n",
    "    for name in namelist:\n",
    "        simqueue.enqueue(name)\n",
    "\n",
    "    while simqueue.size() > 1:\n",
    "        for i in range(num):\n",
    "            simqueue.enqueue(simqueue.dequeue())\n",
    "        simqueue.dequeue()\n",
    "\n",
    "    return simqueue.dequeue()\n",
    "\n",
    "print(hot_potato([\"anders\", \"sally\", \"marry\", \"hornet\", \"loki\"], 3))\n",
    "\n",
    "\n",
    "\"\"\"\n",
    "В любой среднестатистический день в любой час здесь работает порядка 10 студентов. \n",
    "В течение этого времени они обычно печатают дважды, причём длина задания варьируется от одной до двадцати страниц. \n",
    "Принтер в лаборатории стар и в черновом качестве способен обрабатывать всего 10 страниц в минуту. \n",
    "Можно переключить его на лучшее качество печати, но тогда производительность упадёт до 5 страниц/мин. \n",
    "Низкая скорость печати заставляет студентов ждать слишком долго. Какую скорость для страниц следует использовать?\n",
    "\"\"\"\n",
    "\"\"\"\n",
    "Создать очередь из заданий на печать. Каждое из них будет иметь отметку о времени постановки в очередь. В самом начале очередь пуста.\n",
    "Для каждой секунды (currentSecond):\n",
    "Создано ли новое задание на печать? Если да, то добавить его в очередь с currentSecond в качестве отметки времени.\n",
    "Если принтер не занят и есть ожидающее задание, то\n",
    "Удалить следующее задание из очереди на печать и передать его принтеру.\n",
    "Извлечь отметку о времени из currentSecond чтобы вычислить время ожидания для данного задания.\n",
    "Добавить время ожидания этой задачи в список для дальнейшей обработки.\n",
    "Основываясь на количестве страниц в задании на печать, вычислить, сколько для него потребуется времени.\n",
    "Если необходимо, принтер тратит одну секунду печати. Также он вычитает её из времени, необходимого для выполнения задачи.\n",
    "Если задание завершено (другими словами, требуемое на его выполнение время равно нулю), то принтер более не занят.\n",
    "После завершения симуляции вычисляется среднее время ожидания из сгенерированного списка времён ожидания.\n",
    "\"\"\"\n",
    "\n",
    "\n",
    "class Printer(object):\n",
    "\n",
    "    def __init__(self, ppm):\n",
    "        self.pagerate = ppm\n",
    "        self.current_task = None\n",
    "        self.time_remaining = 0\n",
    "\n",
    "    def tick(self):\n",
    "        if self.current_task is not None:\n",
    "            self.time_remaining -= 1\n",
    "            if self.time_remaining <= 0:\n",
    "                self.current_task = None\n",
    "\n",
    "    def busy(self):\n",
    "        if self.current_task is not None:\n",
    "            return True\n",
    "        else:\n",
    "            return False\n",
    "\n",
    "    def start_next(self, new_task):\n",
    "        self.current_task = new_task\n",
    "        self.time_remaining = new_task.get_pages() * 60 / self.pagerate\n",
    "\n",
    "\n",
    "class Task(object):\n",
    "\n",
    "    def __init__(self, time):\n",
    "        self.timestamp = time\n",
    "        self.pages = random.randrange(1, 21)\n",
    "\n",
    "    def get_stamp(self):\n",
    "        return self.timestamp\n",
    "\n",
    "    def get_pages(self):\n",
    "        return self.pages\n",
    "\n",
    "    def wait_time(self, current_time):\n",
    "        return current_time - self.timestamp\n",
    "\n",
    "\n",
    "def simualtion(num_seconds, pages_per_minute):\n",
    "    lab_printer = Printer(pages_per_minute)\n",
    "    print_queue = Queue()\n",
    "    waitingtimes = []\n",
    "\n",
    "    for current_second in range(num_seconds):\n",
    "\n",
    "        if new_print_task():\n",
    "            task = Task(current_second)\n",
    "            print_queue.enqueue(task)\n",
    "\n",
    "        if not lab_printer.busy() and not print_queue.is_empty():\n",
    "            next_task = print_queue.dequeue()\n",
    "            waitingtimes.append(next_task.wait_time(current_second))\n",
    "            lab_printer.start_next(next_task)\n",
    "        lab_printer.tick()\n",
    "\n",
    "    average_wait = sum(waitingtimes) / len(waitingtimes)\n",
    "    print(\"Average Wait %6.2f secs %3d tasks remaining.\" % (average_wait, print_queue.size()))\n",
    "\n",
    "\n",
    "def new_print_task():\n",
    "    num = random.randrange(1, 181)\n",
    "    res = True if num == 180 else False\n",
    "    return res\n",
    "\n",
    "for i in range(10):\n",
    "    simualtion(3600, 5)\n"
   ]
  },
  {
   "cell_type": "code",
   "execution_count": null,
   "metadata": {
    "collapsed": true
   },
   "outputs": [],
   "source": []
  }
 ],
 "metadata": {
  "kernelspec": {
   "display_name": "Python 3",
   "language": "python",
   "name": "python3"
  },
  "language_info": {
   "codemirror_mode": {
    "name": "ipython",
    "version": 3
   },
   "file_extension": ".py",
   "mimetype": "text/x-python",
   "name": "python",
   "nbconvert_exporter": "python",
   "pygments_lexer": "ipython3",
   "version": "3.4.3"
  }
 },
 "nbformat": 4,
 "nbformat_minor": 0
}
