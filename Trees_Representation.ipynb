{
 "cells": [
  {
   "cell_type": "markdown",
   "metadata": {},
   "source": [
    "class BinaryTree(object):\n",
    "    def __init__(self, left, right):\n",
    "        self.left = left\n",
    "        self.right = right\n",
    "\n",
    "class Tree(object):\n",
    "    def __init__(self, kids, next=None):\n",
    "        self.kids = self.val = kids\n",
    "        self.next = next\n",
    "\n",
    "t = BinaryTree(BinaryTree(\"a\", \"b\"), BinaryTree(\"c\", \"d\"))\n",
    "m_tree = Tree(Tree(\"a\", Tree(\"b\", Tree(\"c\", Tree(\"d\")))))\n",
    "print(t.right.left)"
   ]
  },
  {
   "cell_type": "markdown",
   "metadata": {},
   "source": [
    "When prototyping (or even finalizing) data structures such as trees, it can be useful to have a flexible class\n",
    "that will allow you to specify arbitrary attributes in the constructor. In these cases, the “Bunch” pattern\n",
    "(named by Alex Martelli in the Python Cookbook) can come in handy. There are many ways of\n",
    "implementing it, but the gist of it is the following:"
   ]
  },
  {
   "cell_type": "code",
   "execution_count": 12,
   "metadata": {
    "collapsed": false
   },
   "outputs": [
    {
     "data": {
      "text/plain": [
       "{'left': 'a', 'right': 'b'}"
      ]
     },
     "execution_count": 12,
     "metadata": {},
     "output_type": "execute_result"
    }
   ],
   "source": [
    "class Bunch(dict):\n",
    "    def __init__(self, *args, **kwargs):\n",
    "        super(Bunch, self).__init__(*args, **kwargs)\n",
    "        self.__dict__ = self\n",
    "\n",
    "Tr = Bunch\n",
    "t = Tr(left=Tr(left=\"a\", right=\"b\"), right=Tr(left=\"c\"))\n",
    "t.left"
   ]
  }
 ],
 "metadata": {
  "kernelspec": {
   "display_name": "Python 3",
   "language": "python",
   "name": "python3"
  },
  "language_info": {
   "codemirror_mode": {
    "name": "ipython",
    "version": 3
   },
   "file_extension": ".py",
   "mimetype": "text/x-python",
   "name": "python",
   "nbconvert_exporter": "python",
   "pygments_lexer": "ipython3",
   "version": "3.4.3"
  }
 },
 "nbformat": 4,
 "nbformat_minor": 0
}
